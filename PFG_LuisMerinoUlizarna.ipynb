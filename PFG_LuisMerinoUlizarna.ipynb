{
  "cells": [
    {
      "cell_type": "markdown",
      "metadata": {
        "id": "view-in-github",
        "colab_type": "text"
      },
      "source": [
        "<a href=\"https://colab.research.google.com/github/luismerinou/final-degree-project-UPM/blob/main/PFG_LuisMerinoUlizarna.ipynb\" target=\"_parent\"><img src=\"https://colab.research.google.com/assets/colab-badge.svg\" alt=\"Open In Colab\"/></a>"
      ]
    },
    {
      "cell_type": "code",
      "source": [
        "from google.colab import drive\n",
        "\n",
        "drive.mount('/content/drive')"
      ],
      "metadata": {
        "colab": {
          "base_uri": "https://localhost:8080/"
        },
        "id": "oa5wsKpQ_alv",
        "outputId": "bab45302-fe5b-40d2-b037-04da04040fc2"
      },
      "execution_count": null,
      "outputs": [
        {
          "output_type": "stream",
          "name": "stdout",
          "text": [
            "Drive already mounted at /content/drive; to attempt to forcibly remount, call drive.mount(\"/content/drive\", force_remount=True).\n"
          ]
        }
      ]
    },
    {
      "cell_type": "code",
      "source": [
        "!python --version"
      ],
      "metadata": {
        "colab": {
          "base_uri": "https://localhost:8080/"
        },
        "id": "aUour_kOozKB",
        "outputId": "0f50826a-bfe2-40f3-8857-8e20df754475"
      },
      "execution_count": null,
      "outputs": [
        {
          "output_type": "stream",
          "name": "stdout",
          "text": [
            "Python 3.7.13\n"
          ]
        }
      ]
    },
    {
      "cell_type": "markdown",
      "metadata": {
        "id": "29-gTgtcC-wG"
      },
      "source": [
        "# Implementación modelo"
      ]
    },
    {
      "cell_type": "markdown",
      "metadata": {
        "id": "qnW1HTxy7WGD"
      },
      "source": [
        "## Carga de datos e imports"
      ]
    },
    {
      "cell_type": "code",
      "execution_count": null,
      "metadata": {
        "id": "sEvlHO-hwSS1"
      },
      "outputs": [],
      "source": [
        "import os\n",
        "import tensorflow as tf\n",
        "import pandas as pd\n",
        "import numpy as np\n",
        "import seaborn as sns\n",
        "import matplotlib.pyplot as plt\n",
        "from tensorflow import keras\n",
        "from tensorflow.keras.applications.vgg16 import VGG16\n",
        "from tensorflow.keras.preprocessing.image import ImageDataGenerator\n",
        "from tensorflow.keras.applications.vgg16 import decode_predictions\n",
        "from tensorflow.keras import layers\n",
        "from tensorflow.keras.models import Model, Sequential\n"
      ]
    },
    {
      "cell_type": "code",
      "execution_count": null,
      "metadata": {
        "id": "zlPprkgW-c8u"
      },
      "outputs": [],
      "source": [
        "# Directorio raíz de trabajo\n",
        "PATH = '/content/drive/MyDrive/colab-workdir'"
      ]
    },
    {
      "cell_type": "code",
      "source": [
        "tf.keras.backend.clear_session()  # Para restablecer fácilmente el estado del portátil.\n",
        "transfer_load_model = keras.models.load_model(f'{PATH}/saved_models/last_model-colab-data-augmentation-new-test.h5')"
      ],
      "metadata": {
        "id": "eK0Qu3obOqV1"
      },
      "execution_count": null,
      "outputs": []
    },
    {
      "cell_type": "markdown",
      "metadata": {
        "id": "HeSPoi5deQUa"
      },
      "source": [
        "## Load train and test CSV"
      ]
    },
    {
      "cell_type": "code",
      "execution_count": null,
      "metadata": {
        "id": "zitfh35wePd1"
      },
      "outputs": [],
      "source": [
        "train_dir = f'{PATH}/jpeg224/train'\n",
        "val_dir = f'{PATH}/jpeg224/val'\n",
        "test_dir = f'{PATH}/jpeg224/test'"
      ]
    },
    {
      "cell_type": "code",
      "source": [
        "train = pd.read_csv(f'{PATH}/train.csv')\n",
        "train"
      ],
      "metadata": {
        "colab": {
          "base_uri": "https://localhost:8080/",
          "height": 423
        },
        "id": "h3NSlNidvXs3",
        "outputId": "6bc499cc-6b15-4955-a29f-5e33aaa6e1a9"
      },
      "execution_count": null,
      "outputs": [
        {
          "output_type": "execute_result",
          "data": {
            "text/plain": [
              "         image_name  patient_id     sex  age_approx  \\\n",
              "0      ISIC_2637011  IP_7279968    male        45.0   \n",
              "1      ISIC_0015719  IP_3075186  female        45.0   \n",
              "2      ISIC_0052212  IP_2842074  female        50.0   \n",
              "3      ISIC_0068279  IP_6890425  female        45.0   \n",
              "4      ISIC_0074268  IP_8723313  female        55.0   \n",
              "...             ...         ...     ...         ...   \n",
              "33121  ISIC_9999134  IP_6526534    male        50.0   \n",
              "33122  ISIC_9999320  IP_3650745    male        65.0   \n",
              "33123  ISIC_9999515  IP_2026598    male        20.0   \n",
              "33124  ISIC_9999666  IP_7702038    male        50.0   \n",
              "33125  ISIC_9999806  IP_0046310    male        45.0   \n",
              "\n",
              "      anatom_site_general_challenge diagnosis benign_malignant  target  \n",
              "0                         head/neck   unknown           benign       0  \n",
              "1                   upper extremity   unknown           benign       0  \n",
              "2                   lower extremity     nevus           benign       0  \n",
              "3                         head/neck   unknown           benign       0  \n",
              "4                   upper extremity   unknown           benign       0  \n",
              "...                             ...       ...              ...     ...  \n",
              "33121                         torso   unknown           benign       0  \n",
              "33122                         torso   unknown           benign       0  \n",
              "33123               lower extremity   unknown           benign       0  \n",
              "33124               lower extremity   unknown           benign       0  \n",
              "33125                         torso     nevus           benign       0  \n",
              "\n",
              "[33126 rows x 8 columns]"
            ],
            "text/html": [
              "\n",
              "  <div id=\"df-e0fe3ab7-136d-4d3f-914d-c7e1b71a68f9\">\n",
              "    <div class=\"colab-df-container\">\n",
              "      <div>\n",
              "<style scoped>\n",
              "    .dataframe tbody tr th:only-of-type {\n",
              "        vertical-align: middle;\n",
              "    }\n",
              "\n",
              "    .dataframe tbody tr th {\n",
              "        vertical-align: top;\n",
              "    }\n",
              "\n",
              "    .dataframe thead th {\n",
              "        text-align: right;\n",
              "    }\n",
              "</style>\n",
              "<table border=\"1\" class=\"dataframe\">\n",
              "  <thead>\n",
              "    <tr style=\"text-align: right;\">\n",
              "      <th></th>\n",
              "      <th>image_name</th>\n",
              "      <th>patient_id</th>\n",
              "      <th>sex</th>\n",
              "      <th>age_approx</th>\n",
              "      <th>anatom_site_general_challenge</th>\n",
              "      <th>diagnosis</th>\n",
              "      <th>benign_malignant</th>\n",
              "      <th>target</th>\n",
              "    </tr>\n",
              "  </thead>\n",
              "  <tbody>\n",
              "    <tr>\n",
              "      <th>0</th>\n",
              "      <td>ISIC_2637011</td>\n",
              "      <td>IP_7279968</td>\n",
              "      <td>male</td>\n",
              "      <td>45.0</td>\n",
              "      <td>head/neck</td>\n",
              "      <td>unknown</td>\n",
              "      <td>benign</td>\n",
              "      <td>0</td>\n",
              "    </tr>\n",
              "    <tr>\n",
              "      <th>1</th>\n",
              "      <td>ISIC_0015719</td>\n",
              "      <td>IP_3075186</td>\n",
              "      <td>female</td>\n",
              "      <td>45.0</td>\n",
              "      <td>upper extremity</td>\n",
              "      <td>unknown</td>\n",
              "      <td>benign</td>\n",
              "      <td>0</td>\n",
              "    </tr>\n",
              "    <tr>\n",
              "      <th>2</th>\n",
              "      <td>ISIC_0052212</td>\n",
              "      <td>IP_2842074</td>\n",
              "      <td>female</td>\n",
              "      <td>50.0</td>\n",
              "      <td>lower extremity</td>\n",
              "      <td>nevus</td>\n",
              "      <td>benign</td>\n",
              "      <td>0</td>\n",
              "    </tr>\n",
              "    <tr>\n",
              "      <th>3</th>\n",
              "      <td>ISIC_0068279</td>\n",
              "      <td>IP_6890425</td>\n",
              "      <td>female</td>\n",
              "      <td>45.0</td>\n",
              "      <td>head/neck</td>\n",
              "      <td>unknown</td>\n",
              "      <td>benign</td>\n",
              "      <td>0</td>\n",
              "    </tr>\n",
              "    <tr>\n",
              "      <th>4</th>\n",
              "      <td>ISIC_0074268</td>\n",
              "      <td>IP_8723313</td>\n",
              "      <td>female</td>\n",
              "      <td>55.0</td>\n",
              "      <td>upper extremity</td>\n",
              "      <td>unknown</td>\n",
              "      <td>benign</td>\n",
              "      <td>0</td>\n",
              "    </tr>\n",
              "    <tr>\n",
              "      <th>...</th>\n",
              "      <td>...</td>\n",
              "      <td>...</td>\n",
              "      <td>...</td>\n",
              "      <td>...</td>\n",
              "      <td>...</td>\n",
              "      <td>...</td>\n",
              "      <td>...</td>\n",
              "      <td>...</td>\n",
              "    </tr>\n",
              "    <tr>\n",
              "      <th>33121</th>\n",
              "      <td>ISIC_9999134</td>\n",
              "      <td>IP_6526534</td>\n",
              "      <td>male</td>\n",
              "      <td>50.0</td>\n",
              "      <td>torso</td>\n",
              "      <td>unknown</td>\n",
              "      <td>benign</td>\n",
              "      <td>0</td>\n",
              "    </tr>\n",
              "    <tr>\n",
              "      <th>33122</th>\n",
              "      <td>ISIC_9999320</td>\n",
              "      <td>IP_3650745</td>\n",
              "      <td>male</td>\n",
              "      <td>65.0</td>\n",
              "      <td>torso</td>\n",
              "      <td>unknown</td>\n",
              "      <td>benign</td>\n",
              "      <td>0</td>\n",
              "    </tr>\n",
              "    <tr>\n",
              "      <th>33123</th>\n",
              "      <td>ISIC_9999515</td>\n",
              "      <td>IP_2026598</td>\n",
              "      <td>male</td>\n",
              "      <td>20.0</td>\n",
              "      <td>lower extremity</td>\n",
              "      <td>unknown</td>\n",
              "      <td>benign</td>\n",
              "      <td>0</td>\n",
              "    </tr>\n",
              "    <tr>\n",
              "      <th>33124</th>\n",
              "      <td>ISIC_9999666</td>\n",
              "      <td>IP_7702038</td>\n",
              "      <td>male</td>\n",
              "      <td>50.0</td>\n",
              "      <td>lower extremity</td>\n",
              "      <td>unknown</td>\n",
              "      <td>benign</td>\n",
              "      <td>0</td>\n",
              "    </tr>\n",
              "    <tr>\n",
              "      <th>33125</th>\n",
              "      <td>ISIC_9999806</td>\n",
              "      <td>IP_0046310</td>\n",
              "      <td>male</td>\n",
              "      <td>45.0</td>\n",
              "      <td>torso</td>\n",
              "      <td>nevus</td>\n",
              "      <td>benign</td>\n",
              "      <td>0</td>\n",
              "    </tr>\n",
              "  </tbody>\n",
              "</table>\n",
              "<p>33126 rows × 8 columns</p>\n",
              "</div>\n",
              "      <button class=\"colab-df-convert\" onclick=\"convertToInteractive('df-e0fe3ab7-136d-4d3f-914d-c7e1b71a68f9')\"\n",
              "              title=\"Convert this dataframe to an interactive table.\"\n",
              "              style=\"display:none;\">\n",
              "        \n",
              "  <svg xmlns=\"http://www.w3.org/2000/svg\" height=\"24px\"viewBox=\"0 0 24 24\"\n",
              "       width=\"24px\">\n",
              "    <path d=\"M0 0h24v24H0V0z\" fill=\"none\"/>\n",
              "    <path d=\"M18.56 5.44l.94 2.06.94-2.06 2.06-.94-2.06-.94-.94-2.06-.94 2.06-2.06.94zm-11 1L8.5 8.5l.94-2.06 2.06-.94-2.06-.94L8.5 2.5l-.94 2.06-2.06.94zm10 10l.94 2.06.94-2.06 2.06-.94-2.06-.94-.94-2.06-.94 2.06-2.06.94z\"/><path d=\"M17.41 7.96l-1.37-1.37c-.4-.4-.92-.59-1.43-.59-.52 0-1.04.2-1.43.59L10.3 9.45l-7.72 7.72c-.78.78-.78 2.05 0 2.83L4 21.41c.39.39.9.59 1.41.59.51 0 1.02-.2 1.41-.59l7.78-7.78 2.81-2.81c.8-.78.8-2.07 0-2.86zM5.41 20L4 18.59l7.72-7.72 1.47 1.35L5.41 20z\"/>\n",
              "  </svg>\n",
              "      </button>\n",
              "      \n",
              "  <style>\n",
              "    .colab-df-container {\n",
              "      display:flex;\n",
              "      flex-wrap:wrap;\n",
              "      gap: 12px;\n",
              "    }\n",
              "\n",
              "    .colab-df-convert {\n",
              "      background-color: #E8F0FE;\n",
              "      border: none;\n",
              "      border-radius: 50%;\n",
              "      cursor: pointer;\n",
              "      display: none;\n",
              "      fill: #1967D2;\n",
              "      height: 32px;\n",
              "      padding: 0 0 0 0;\n",
              "      width: 32px;\n",
              "    }\n",
              "\n",
              "    .colab-df-convert:hover {\n",
              "      background-color: #E2EBFA;\n",
              "      box-shadow: 0px 1px 2px rgba(60, 64, 67, 0.3), 0px 1px 3px 1px rgba(60, 64, 67, 0.15);\n",
              "      fill: #174EA6;\n",
              "    }\n",
              "\n",
              "    [theme=dark] .colab-df-convert {\n",
              "      background-color: #3B4455;\n",
              "      fill: #D2E3FC;\n",
              "    }\n",
              "\n",
              "    [theme=dark] .colab-df-convert:hover {\n",
              "      background-color: #434B5C;\n",
              "      box-shadow: 0px 1px 3px 1px rgba(0, 0, 0, 0.15);\n",
              "      filter: drop-shadow(0px 1px 2px rgba(0, 0, 0, 0.3));\n",
              "      fill: #FFFFFF;\n",
              "    }\n",
              "  </style>\n",
              "\n",
              "      <script>\n",
              "        const buttonEl =\n",
              "          document.querySelector('#df-e0fe3ab7-136d-4d3f-914d-c7e1b71a68f9 button.colab-df-convert');\n",
              "        buttonEl.style.display =\n",
              "          google.colab.kernel.accessAllowed ? 'block' : 'none';\n",
              "\n",
              "        async function convertToInteractive(key) {\n",
              "          const element = document.querySelector('#df-e0fe3ab7-136d-4d3f-914d-c7e1b71a68f9');\n",
              "          const dataTable =\n",
              "            await google.colab.kernel.invokeFunction('convertToInteractive',\n",
              "                                                     [key], {});\n",
              "          if (!dataTable) return;\n",
              "\n",
              "          const docLinkHtml = 'Like what you see? Visit the ' +\n",
              "            '<a target=\"_blank\" href=https://colab.research.google.com/notebooks/data_table.ipynb>data table notebook</a>'\n",
              "            + ' to learn more about interactive tables.';\n",
              "          element.innerHTML = '';\n",
              "          dataTable['output_type'] = 'display_data';\n",
              "          await google.colab.output.renderOutput(dataTable, element);\n",
              "          const docLink = document.createElement('div');\n",
              "          docLink.innerHTML = docLinkHtml;\n",
              "          element.appendChild(docLink);\n",
              "        }\n",
              "      </script>\n",
              "    </div>\n",
              "  </div>\n",
              "  "
            ]
          },
          "metadata": {},
          "execution_count": 11
        }
      ]
    },
    {
      "cell_type": "code",
      "source": [
        "benign_dir = os.listdir( f'{PATH}/train_copy/0')\n",
        "benign_dir"
      ],
      "metadata": {
        "id": "Xy0eP_9Eir-e"
      },
      "execution_count": null,
      "outputs": []
    },
    {
      "cell_type": "code",
      "source": [
        "malignant_dir = os.listdir( f'{PATH}/train_copy/1')\n",
        "malignant_dir"
      ],
      "metadata": {
        "id": "78r6mO2snCPI"
      },
      "execution_count": null,
      "outputs": []
    },
    {
      "cell_type": "code",
      "source": [
        "traindf_length = len(train.index)\n",
        "traindf_length"
      ],
      "metadata": {
        "colab": {
          "base_uri": "https://localhost:8080/"
        },
        "id": "iqpAmcfiCjed",
        "outputId": "0dab0011-74fb-4a15-da58-f2018299d309"
      },
      "execution_count": null,
      "outputs": [
        {
          "output_type": "execute_result",
          "data": {
            "text/plain": [
              "33126"
            ]
          },
          "metadata": {},
          "execution_count": 22
        }
      ]
    },
    {
      "cell_type": "code",
      "source": [
        "five_percent_of_train = round(traindf_length*0.05)\n",
        "five_percent_of_train"
      ],
      "metadata": {
        "colab": {
          "base_uri": "https://localhost:8080/"
        },
        "id": "yGn-59taOEl_",
        "outputId": "38022d17-947e-4d7f-87bc-51c548e92bcc"
      },
      "execution_count": null,
      "outputs": [
        {
          "output_type": "execute_result",
          "data": {
            "text/plain": [
              "1656"
            ]
          },
          "metadata": {},
          "execution_count": 23
        }
      ]
    },
    {
      "cell_type": "code",
      "source": [
        "test_slice = train[:five_percent_of_train]\n",
        "test_slice"
      ],
      "metadata": {
        "colab": {
          "base_uri": "https://localhost:8080/",
          "height": 423
        },
        "id": "Cg86-KcROUPA",
        "outputId": "c065b4d9-def2-4413-82be-1bc4ffb7e170"
      },
      "execution_count": null,
      "outputs": [
        {
          "output_type": "execute_result",
          "data": {
            "text/plain": [
              "        image_name  patient_id     sex  age_approx  \\\n",
              "0     ISIC_2637011  IP_7279968    male        45.0   \n",
              "1     ISIC_0015719  IP_3075186  female        45.0   \n",
              "2     ISIC_0052212  IP_2842074  female        50.0   \n",
              "3     ISIC_0068279  IP_6890425  female        45.0   \n",
              "4     ISIC_0074268  IP_8723313  female        55.0   \n",
              "...            ...         ...     ...         ...   \n",
              "1651  ISIC_0597414  IP_2606884  female        45.0   \n",
              "1652  ISIC_0597581  IP_9494136  female        75.0   \n",
              "1653  ISIC_0599047  IP_4109313    male        30.0   \n",
              "1654  ISIC_0599605  IP_6130936    male        70.0   \n",
              "1655  ISIC_0599755  IP_6875077    male        50.0   \n",
              "\n",
              "     anatom_site_general_challenge diagnosis benign_malignant  target  \n",
              "0                        head/neck   unknown           benign       0  \n",
              "1                  upper extremity   unknown           benign       0  \n",
              "2                  lower extremity     nevus           benign       0  \n",
              "3                        head/neck   unknown           benign       0  \n",
              "4                  upper extremity   unknown           benign       0  \n",
              "...                            ...       ...              ...     ...  \n",
              "1651               lower extremity   unknown           benign       0  \n",
              "1652               lower extremity   unknown           benign       0  \n",
              "1653               upper extremity   unknown           benign       0  \n",
              "1654               upper extremity  melanoma        malignant       1  \n",
              "1655                         torso   unknown           benign       0  \n",
              "\n",
              "[1656 rows x 8 columns]"
            ],
            "text/html": [
              "\n",
              "  <div id=\"df-6a115a2e-4d9b-432f-af63-d744753727f6\">\n",
              "    <div class=\"colab-df-container\">\n",
              "      <div>\n",
              "<style scoped>\n",
              "    .dataframe tbody tr th:only-of-type {\n",
              "        vertical-align: middle;\n",
              "    }\n",
              "\n",
              "    .dataframe tbody tr th {\n",
              "        vertical-align: top;\n",
              "    }\n",
              "\n",
              "    .dataframe thead th {\n",
              "        text-align: right;\n",
              "    }\n",
              "</style>\n",
              "<table border=\"1\" class=\"dataframe\">\n",
              "  <thead>\n",
              "    <tr style=\"text-align: right;\">\n",
              "      <th></th>\n",
              "      <th>image_name</th>\n",
              "      <th>patient_id</th>\n",
              "      <th>sex</th>\n",
              "      <th>age_approx</th>\n",
              "      <th>anatom_site_general_challenge</th>\n",
              "      <th>diagnosis</th>\n",
              "      <th>benign_malignant</th>\n",
              "      <th>target</th>\n",
              "    </tr>\n",
              "  </thead>\n",
              "  <tbody>\n",
              "    <tr>\n",
              "      <th>0</th>\n",
              "      <td>ISIC_2637011</td>\n",
              "      <td>IP_7279968</td>\n",
              "      <td>male</td>\n",
              "      <td>45.0</td>\n",
              "      <td>head/neck</td>\n",
              "      <td>unknown</td>\n",
              "      <td>benign</td>\n",
              "      <td>0</td>\n",
              "    </tr>\n",
              "    <tr>\n",
              "      <th>1</th>\n",
              "      <td>ISIC_0015719</td>\n",
              "      <td>IP_3075186</td>\n",
              "      <td>female</td>\n",
              "      <td>45.0</td>\n",
              "      <td>upper extremity</td>\n",
              "      <td>unknown</td>\n",
              "      <td>benign</td>\n",
              "      <td>0</td>\n",
              "    </tr>\n",
              "    <tr>\n",
              "      <th>2</th>\n",
              "      <td>ISIC_0052212</td>\n",
              "      <td>IP_2842074</td>\n",
              "      <td>female</td>\n",
              "      <td>50.0</td>\n",
              "      <td>lower extremity</td>\n",
              "      <td>nevus</td>\n",
              "      <td>benign</td>\n",
              "      <td>0</td>\n",
              "    </tr>\n",
              "    <tr>\n",
              "      <th>3</th>\n",
              "      <td>ISIC_0068279</td>\n",
              "      <td>IP_6890425</td>\n",
              "      <td>female</td>\n",
              "      <td>45.0</td>\n",
              "      <td>head/neck</td>\n",
              "      <td>unknown</td>\n",
              "      <td>benign</td>\n",
              "      <td>0</td>\n",
              "    </tr>\n",
              "    <tr>\n",
              "      <th>4</th>\n",
              "      <td>ISIC_0074268</td>\n",
              "      <td>IP_8723313</td>\n",
              "      <td>female</td>\n",
              "      <td>55.0</td>\n",
              "      <td>upper extremity</td>\n",
              "      <td>unknown</td>\n",
              "      <td>benign</td>\n",
              "      <td>0</td>\n",
              "    </tr>\n",
              "    <tr>\n",
              "      <th>...</th>\n",
              "      <td>...</td>\n",
              "      <td>...</td>\n",
              "      <td>...</td>\n",
              "      <td>...</td>\n",
              "      <td>...</td>\n",
              "      <td>...</td>\n",
              "      <td>...</td>\n",
              "      <td>...</td>\n",
              "    </tr>\n",
              "    <tr>\n",
              "      <th>1651</th>\n",
              "      <td>ISIC_0597414</td>\n",
              "      <td>IP_2606884</td>\n",
              "      <td>female</td>\n",
              "      <td>45.0</td>\n",
              "      <td>lower extremity</td>\n",
              "      <td>unknown</td>\n",
              "      <td>benign</td>\n",
              "      <td>0</td>\n",
              "    </tr>\n",
              "    <tr>\n",
              "      <th>1652</th>\n",
              "      <td>ISIC_0597581</td>\n",
              "      <td>IP_9494136</td>\n",
              "      <td>female</td>\n",
              "      <td>75.0</td>\n",
              "      <td>lower extremity</td>\n",
              "      <td>unknown</td>\n",
              "      <td>benign</td>\n",
              "      <td>0</td>\n",
              "    </tr>\n",
              "    <tr>\n",
              "      <th>1653</th>\n",
              "      <td>ISIC_0599047</td>\n",
              "      <td>IP_4109313</td>\n",
              "      <td>male</td>\n",
              "      <td>30.0</td>\n",
              "      <td>upper extremity</td>\n",
              "      <td>unknown</td>\n",
              "      <td>benign</td>\n",
              "      <td>0</td>\n",
              "    </tr>\n",
              "    <tr>\n",
              "      <th>1654</th>\n",
              "      <td>ISIC_0599605</td>\n",
              "      <td>IP_6130936</td>\n",
              "      <td>male</td>\n",
              "      <td>70.0</td>\n",
              "      <td>upper extremity</td>\n",
              "      <td>melanoma</td>\n",
              "      <td>malignant</td>\n",
              "      <td>1</td>\n",
              "    </tr>\n",
              "    <tr>\n",
              "      <th>1655</th>\n",
              "      <td>ISIC_0599755</td>\n",
              "      <td>IP_6875077</td>\n",
              "      <td>male</td>\n",
              "      <td>50.0</td>\n",
              "      <td>torso</td>\n",
              "      <td>unknown</td>\n",
              "      <td>benign</td>\n",
              "      <td>0</td>\n",
              "    </tr>\n",
              "  </tbody>\n",
              "</table>\n",
              "<p>1656 rows × 8 columns</p>\n",
              "</div>\n",
              "      <button class=\"colab-df-convert\" onclick=\"convertToInteractive('df-6a115a2e-4d9b-432f-af63-d744753727f6')\"\n",
              "              title=\"Convert this dataframe to an interactive table.\"\n",
              "              style=\"display:none;\">\n",
              "        \n",
              "  <svg xmlns=\"http://www.w3.org/2000/svg\" height=\"24px\"viewBox=\"0 0 24 24\"\n",
              "       width=\"24px\">\n",
              "    <path d=\"M0 0h24v24H0V0z\" fill=\"none\"/>\n",
              "    <path d=\"M18.56 5.44l.94 2.06.94-2.06 2.06-.94-2.06-.94-.94-2.06-.94 2.06-2.06.94zm-11 1L8.5 8.5l.94-2.06 2.06-.94-2.06-.94L8.5 2.5l-.94 2.06-2.06.94zm10 10l.94 2.06.94-2.06 2.06-.94-2.06-.94-.94-2.06-.94 2.06-2.06.94z\"/><path d=\"M17.41 7.96l-1.37-1.37c-.4-.4-.92-.59-1.43-.59-.52 0-1.04.2-1.43.59L10.3 9.45l-7.72 7.72c-.78.78-.78 2.05 0 2.83L4 21.41c.39.39.9.59 1.41.59.51 0 1.02-.2 1.41-.59l7.78-7.78 2.81-2.81c.8-.78.8-2.07 0-2.86zM5.41 20L4 18.59l7.72-7.72 1.47 1.35L5.41 20z\"/>\n",
              "  </svg>\n",
              "      </button>\n",
              "      \n",
              "  <style>\n",
              "    .colab-df-container {\n",
              "      display:flex;\n",
              "      flex-wrap:wrap;\n",
              "      gap: 12px;\n",
              "    }\n",
              "\n",
              "    .colab-df-convert {\n",
              "      background-color: #E8F0FE;\n",
              "      border: none;\n",
              "      border-radius: 50%;\n",
              "      cursor: pointer;\n",
              "      display: none;\n",
              "      fill: #1967D2;\n",
              "      height: 32px;\n",
              "      padding: 0 0 0 0;\n",
              "      width: 32px;\n",
              "    }\n",
              "\n",
              "    .colab-df-convert:hover {\n",
              "      background-color: #E2EBFA;\n",
              "      box-shadow: 0px 1px 2px rgba(60, 64, 67, 0.3), 0px 1px 3px 1px rgba(60, 64, 67, 0.15);\n",
              "      fill: #174EA6;\n",
              "    }\n",
              "\n",
              "    [theme=dark] .colab-df-convert {\n",
              "      background-color: #3B4455;\n",
              "      fill: #D2E3FC;\n",
              "    }\n",
              "\n",
              "    [theme=dark] .colab-df-convert:hover {\n",
              "      background-color: #434B5C;\n",
              "      box-shadow: 0px 1px 3px 1px rgba(0, 0, 0, 0.15);\n",
              "      filter: drop-shadow(0px 1px 2px rgba(0, 0, 0, 0.3));\n",
              "      fill: #FFFFFF;\n",
              "    }\n",
              "  </style>\n",
              "\n",
              "      <script>\n",
              "        const buttonEl =\n",
              "          document.querySelector('#df-6a115a2e-4d9b-432f-af63-d744753727f6 button.colab-df-convert');\n",
              "        buttonEl.style.display =\n",
              "          google.colab.kernel.accessAllowed ? 'block' : 'none';\n",
              "\n",
              "        async function convertToInteractive(key) {\n",
              "          const element = document.querySelector('#df-6a115a2e-4d9b-432f-af63-d744753727f6');\n",
              "          const dataTable =\n",
              "            await google.colab.kernel.invokeFunction('convertToInteractive',\n",
              "                                                     [key], {});\n",
              "          if (!dataTable) return;\n",
              "\n",
              "          const docLinkHtml = 'Like what you see? Visit the ' +\n",
              "            '<a target=\"_blank\" href=https://colab.research.google.com/notebooks/data_table.ipynb>data table notebook</a>'\n",
              "            + ' to learn more about interactive tables.';\n",
              "          element.innerHTML = '';\n",
              "          dataTable['output_type'] = 'display_data';\n",
              "          await google.colab.output.renderOutput(dataTable, element);\n",
              "          const docLink = document.createElement('div');\n",
              "          docLink.innerHTML = docLinkHtml;\n",
              "          element.appendChild(docLink);\n",
              "        }\n",
              "      </script>\n",
              "    </div>\n",
              "  </div>\n",
              "  "
            ]
          },
          "metadata": {},
          "execution_count": 24
        }
      ]
    },
    {
      "cell_type": "code",
      "source": [
        "test_slice[\"image_name\"]"
      ],
      "metadata": {
        "colab": {
          "base_uri": "https://localhost:8080/"
        },
        "id": "PVQYHAkwOuoz",
        "outputId": "5c775a77-daaf-42d0-ee24-00cb118c173d"
      },
      "execution_count": null,
      "outputs": [
        {
          "output_type": "execute_result",
          "data": {
            "text/plain": [
              "0       ISIC_2637011\n",
              "1       ISIC_0015719\n",
              "2       ISIC_0052212\n",
              "3       ISIC_0068279\n",
              "4       ISIC_0074268\n",
              "            ...     \n",
              "1651    ISIC_0597414\n",
              "1652    ISIC_0597581\n",
              "1653    ISIC_0599047\n",
              "1654    ISIC_0599605\n",
              "1655    ISIC_0599755\n",
              "Name: image_name, Length: 1656, dtype: object"
            ]
          },
          "metadata": {},
          "execution_count": 25
        }
      ]
    },
    {
      "cell_type": "code",
      "source": [
        "mask = test_slice[\"target\"]==1\n",
        "test_malignant = test_slice[mask]\n",
        "test_malignant"
      ],
      "metadata": {
        "colab": {
          "base_uri": "https://localhost:8080/",
          "height": 833
        },
        "id": "D9LIBc14O6TK",
        "outputId": "e0e6d044-a7ac-408c-fa1b-6bdfa184a29f"
      },
      "execution_count": null,
      "outputs": [
        {
          "output_type": "execute_result",
          "data": {
            "text/plain": [
              "        image_name  patient_id     sex  age_approx  \\\n",
              "91    ISIC_0149568  IP_0962375  female        55.0   \n",
              "235   ISIC_0188432  IP_0135517  female        50.0   \n",
              "314   ISIC_0207268  IP_7735373    male        55.0   \n",
              "399   ISIC_0232101  IP_8349964    male        65.0   \n",
              "459   ISIC_0247330  IP_3232631  female        65.0   \n",
              "475   ISIC_0250839  IP_6234053    male        75.0   \n",
              "544   ISIC_0272509  IP_0408084  female        35.0   \n",
              "546   ISIC_0273046  IP_3293726    male        80.0   \n",
              "551   ISIC_0274382  IP_7600629    male        65.0   \n",
              "558   ISIC_0275828  IP_7252102    male        30.0   \n",
              "580   ISIC_0280912  IP_5831170    male        70.0   \n",
              "607   ISIC_0286360  IP_7729044    male        60.0   \n",
              "747   ISIC_0327406  IP_7069391    male        40.0   \n",
              "758   ISIC_0333091  IP_6868151    male        25.0   \n",
              "774   ISIC_0337631  IP_2041319  female        55.0   \n",
              "826   ISIC_0351666  IP_1665515    male        80.0   \n",
              "886   ISIC_0369831  IP_3237442    male        80.0   \n",
              "1288  ISIC_0489267  IP_8171851  female        60.0   \n",
              "1332  ISIC_0502582  IP_9175987    male        65.0   \n",
              "1335  ISIC_0504165  IP_3675183  female        60.0   \n",
              "1423  ISIC_0528044  IP_7666205    male        65.0   \n",
              "1435  ISIC_0533122  IP_9329623    male        75.0   \n",
              "1520  ISIC_0559335  IP_6067392    male        60.0   \n",
              "1568  ISIC_0572205  IP_6614604    male        20.0   \n",
              "1654  ISIC_0599605  IP_6130936    male        70.0   \n",
              "\n",
              "     anatom_site_general_challenge diagnosis benign_malignant  target  \n",
              "91                 upper extremity  melanoma        malignant       1  \n",
              "235                upper extremity  melanoma        malignant       1  \n",
              "314                          torso  melanoma        malignant       1  \n",
              "399                          torso  melanoma        malignant       1  \n",
              "459                lower extremity  melanoma        malignant       1  \n",
              "475                      head/neck  melanoma        malignant       1  \n",
              "544                lower extremity  melanoma        malignant       1  \n",
              "546                          torso  melanoma        malignant       1  \n",
              "551                          torso  melanoma        malignant       1  \n",
              "558                lower extremity  melanoma        malignant       1  \n",
              "580                          torso  melanoma        malignant       1  \n",
              "607                upper extremity  melanoma        malignant       1  \n",
              "747                upper extremity  melanoma        malignant       1  \n",
              "758                lower extremity  melanoma        malignant       1  \n",
              "774                          torso  melanoma        malignant       1  \n",
              "826                      head/neck  melanoma        malignant       1  \n",
              "886                upper extremity  melanoma        malignant       1  \n",
              "1288               lower extremity  melanoma        malignant       1  \n",
              "1332               lower extremity  melanoma        malignant       1  \n",
              "1335               lower extremity  melanoma        malignant       1  \n",
              "1423                         torso  melanoma        malignant       1  \n",
              "1435               lower extremity  melanoma        malignant       1  \n",
              "1520                         torso  melanoma        malignant       1  \n",
              "1568                         torso  melanoma        malignant       1  \n",
              "1654               upper extremity  melanoma        malignant       1  "
            ],
            "text/html": [
              "\n",
              "  <div id=\"df-a2f5f50a-c8a2-4e58-a829-d1d8e9c2d4e0\">\n",
              "    <div class=\"colab-df-container\">\n",
              "      <div>\n",
              "<style scoped>\n",
              "    .dataframe tbody tr th:only-of-type {\n",
              "        vertical-align: middle;\n",
              "    }\n",
              "\n",
              "    .dataframe tbody tr th {\n",
              "        vertical-align: top;\n",
              "    }\n",
              "\n",
              "    .dataframe thead th {\n",
              "        text-align: right;\n",
              "    }\n",
              "</style>\n",
              "<table border=\"1\" class=\"dataframe\">\n",
              "  <thead>\n",
              "    <tr style=\"text-align: right;\">\n",
              "      <th></th>\n",
              "      <th>image_name</th>\n",
              "      <th>patient_id</th>\n",
              "      <th>sex</th>\n",
              "      <th>age_approx</th>\n",
              "      <th>anatom_site_general_challenge</th>\n",
              "      <th>diagnosis</th>\n",
              "      <th>benign_malignant</th>\n",
              "      <th>target</th>\n",
              "    </tr>\n",
              "  </thead>\n",
              "  <tbody>\n",
              "    <tr>\n",
              "      <th>91</th>\n",
              "      <td>ISIC_0149568</td>\n",
              "      <td>IP_0962375</td>\n",
              "      <td>female</td>\n",
              "      <td>55.0</td>\n",
              "      <td>upper extremity</td>\n",
              "      <td>melanoma</td>\n",
              "      <td>malignant</td>\n",
              "      <td>1</td>\n",
              "    </tr>\n",
              "    <tr>\n",
              "      <th>235</th>\n",
              "      <td>ISIC_0188432</td>\n",
              "      <td>IP_0135517</td>\n",
              "      <td>female</td>\n",
              "      <td>50.0</td>\n",
              "      <td>upper extremity</td>\n",
              "      <td>melanoma</td>\n",
              "      <td>malignant</td>\n",
              "      <td>1</td>\n",
              "    </tr>\n",
              "    <tr>\n",
              "      <th>314</th>\n",
              "      <td>ISIC_0207268</td>\n",
              "      <td>IP_7735373</td>\n",
              "      <td>male</td>\n",
              "      <td>55.0</td>\n",
              "      <td>torso</td>\n",
              "      <td>melanoma</td>\n",
              "      <td>malignant</td>\n",
              "      <td>1</td>\n",
              "    </tr>\n",
              "    <tr>\n",
              "      <th>399</th>\n",
              "      <td>ISIC_0232101</td>\n",
              "      <td>IP_8349964</td>\n",
              "      <td>male</td>\n",
              "      <td>65.0</td>\n",
              "      <td>torso</td>\n",
              "      <td>melanoma</td>\n",
              "      <td>malignant</td>\n",
              "      <td>1</td>\n",
              "    </tr>\n",
              "    <tr>\n",
              "      <th>459</th>\n",
              "      <td>ISIC_0247330</td>\n",
              "      <td>IP_3232631</td>\n",
              "      <td>female</td>\n",
              "      <td>65.0</td>\n",
              "      <td>lower extremity</td>\n",
              "      <td>melanoma</td>\n",
              "      <td>malignant</td>\n",
              "      <td>1</td>\n",
              "    </tr>\n",
              "    <tr>\n",
              "      <th>475</th>\n",
              "      <td>ISIC_0250839</td>\n",
              "      <td>IP_6234053</td>\n",
              "      <td>male</td>\n",
              "      <td>75.0</td>\n",
              "      <td>head/neck</td>\n",
              "      <td>melanoma</td>\n",
              "      <td>malignant</td>\n",
              "      <td>1</td>\n",
              "    </tr>\n",
              "    <tr>\n",
              "      <th>544</th>\n",
              "      <td>ISIC_0272509</td>\n",
              "      <td>IP_0408084</td>\n",
              "      <td>female</td>\n",
              "      <td>35.0</td>\n",
              "      <td>lower extremity</td>\n",
              "      <td>melanoma</td>\n",
              "      <td>malignant</td>\n",
              "      <td>1</td>\n",
              "    </tr>\n",
              "    <tr>\n",
              "      <th>546</th>\n",
              "      <td>ISIC_0273046</td>\n",
              "      <td>IP_3293726</td>\n",
              "      <td>male</td>\n",
              "      <td>80.0</td>\n",
              "      <td>torso</td>\n",
              "      <td>melanoma</td>\n",
              "      <td>malignant</td>\n",
              "      <td>1</td>\n",
              "    </tr>\n",
              "    <tr>\n",
              "      <th>551</th>\n",
              "      <td>ISIC_0274382</td>\n",
              "      <td>IP_7600629</td>\n",
              "      <td>male</td>\n",
              "      <td>65.0</td>\n",
              "      <td>torso</td>\n",
              "      <td>melanoma</td>\n",
              "      <td>malignant</td>\n",
              "      <td>1</td>\n",
              "    </tr>\n",
              "    <tr>\n",
              "      <th>558</th>\n",
              "      <td>ISIC_0275828</td>\n",
              "      <td>IP_7252102</td>\n",
              "      <td>male</td>\n",
              "      <td>30.0</td>\n",
              "      <td>lower extremity</td>\n",
              "      <td>melanoma</td>\n",
              "      <td>malignant</td>\n",
              "      <td>1</td>\n",
              "    </tr>\n",
              "    <tr>\n",
              "      <th>580</th>\n",
              "      <td>ISIC_0280912</td>\n",
              "      <td>IP_5831170</td>\n",
              "      <td>male</td>\n",
              "      <td>70.0</td>\n",
              "      <td>torso</td>\n",
              "      <td>melanoma</td>\n",
              "      <td>malignant</td>\n",
              "      <td>1</td>\n",
              "    </tr>\n",
              "    <tr>\n",
              "      <th>607</th>\n",
              "      <td>ISIC_0286360</td>\n",
              "      <td>IP_7729044</td>\n",
              "      <td>male</td>\n",
              "      <td>60.0</td>\n",
              "      <td>upper extremity</td>\n",
              "      <td>melanoma</td>\n",
              "      <td>malignant</td>\n",
              "      <td>1</td>\n",
              "    </tr>\n",
              "    <tr>\n",
              "      <th>747</th>\n",
              "      <td>ISIC_0327406</td>\n",
              "      <td>IP_7069391</td>\n",
              "      <td>male</td>\n",
              "      <td>40.0</td>\n",
              "      <td>upper extremity</td>\n",
              "      <td>melanoma</td>\n",
              "      <td>malignant</td>\n",
              "      <td>1</td>\n",
              "    </tr>\n",
              "    <tr>\n",
              "      <th>758</th>\n",
              "      <td>ISIC_0333091</td>\n",
              "      <td>IP_6868151</td>\n",
              "      <td>male</td>\n",
              "      <td>25.0</td>\n",
              "      <td>lower extremity</td>\n",
              "      <td>melanoma</td>\n",
              "      <td>malignant</td>\n",
              "      <td>1</td>\n",
              "    </tr>\n",
              "    <tr>\n",
              "      <th>774</th>\n",
              "      <td>ISIC_0337631</td>\n",
              "      <td>IP_2041319</td>\n",
              "      <td>female</td>\n",
              "      <td>55.0</td>\n",
              "      <td>torso</td>\n",
              "      <td>melanoma</td>\n",
              "      <td>malignant</td>\n",
              "      <td>1</td>\n",
              "    </tr>\n",
              "    <tr>\n",
              "      <th>826</th>\n",
              "      <td>ISIC_0351666</td>\n",
              "      <td>IP_1665515</td>\n",
              "      <td>male</td>\n",
              "      <td>80.0</td>\n",
              "      <td>head/neck</td>\n",
              "      <td>melanoma</td>\n",
              "      <td>malignant</td>\n",
              "      <td>1</td>\n",
              "    </tr>\n",
              "    <tr>\n",
              "      <th>886</th>\n",
              "      <td>ISIC_0369831</td>\n",
              "      <td>IP_3237442</td>\n",
              "      <td>male</td>\n",
              "      <td>80.0</td>\n",
              "      <td>upper extremity</td>\n",
              "      <td>melanoma</td>\n",
              "      <td>malignant</td>\n",
              "      <td>1</td>\n",
              "    </tr>\n",
              "    <tr>\n",
              "      <th>1288</th>\n",
              "      <td>ISIC_0489267</td>\n",
              "      <td>IP_8171851</td>\n",
              "      <td>female</td>\n",
              "      <td>60.0</td>\n",
              "      <td>lower extremity</td>\n",
              "      <td>melanoma</td>\n",
              "      <td>malignant</td>\n",
              "      <td>1</td>\n",
              "    </tr>\n",
              "    <tr>\n",
              "      <th>1332</th>\n",
              "      <td>ISIC_0502582</td>\n",
              "      <td>IP_9175987</td>\n",
              "      <td>male</td>\n",
              "      <td>65.0</td>\n",
              "      <td>lower extremity</td>\n",
              "      <td>melanoma</td>\n",
              "      <td>malignant</td>\n",
              "      <td>1</td>\n",
              "    </tr>\n",
              "    <tr>\n",
              "      <th>1335</th>\n",
              "      <td>ISIC_0504165</td>\n",
              "      <td>IP_3675183</td>\n",
              "      <td>female</td>\n",
              "      <td>60.0</td>\n",
              "      <td>lower extremity</td>\n",
              "      <td>melanoma</td>\n",
              "      <td>malignant</td>\n",
              "      <td>1</td>\n",
              "    </tr>\n",
              "    <tr>\n",
              "      <th>1423</th>\n",
              "      <td>ISIC_0528044</td>\n",
              "      <td>IP_7666205</td>\n",
              "      <td>male</td>\n",
              "      <td>65.0</td>\n",
              "      <td>torso</td>\n",
              "      <td>melanoma</td>\n",
              "      <td>malignant</td>\n",
              "      <td>1</td>\n",
              "    </tr>\n",
              "    <tr>\n",
              "      <th>1435</th>\n",
              "      <td>ISIC_0533122</td>\n",
              "      <td>IP_9329623</td>\n",
              "      <td>male</td>\n",
              "      <td>75.0</td>\n",
              "      <td>lower extremity</td>\n",
              "      <td>melanoma</td>\n",
              "      <td>malignant</td>\n",
              "      <td>1</td>\n",
              "    </tr>\n",
              "    <tr>\n",
              "      <th>1520</th>\n",
              "      <td>ISIC_0559335</td>\n",
              "      <td>IP_6067392</td>\n",
              "      <td>male</td>\n",
              "      <td>60.0</td>\n",
              "      <td>torso</td>\n",
              "      <td>melanoma</td>\n",
              "      <td>malignant</td>\n",
              "      <td>1</td>\n",
              "    </tr>\n",
              "    <tr>\n",
              "      <th>1568</th>\n",
              "      <td>ISIC_0572205</td>\n",
              "      <td>IP_6614604</td>\n",
              "      <td>male</td>\n",
              "      <td>20.0</td>\n",
              "      <td>torso</td>\n",
              "      <td>melanoma</td>\n",
              "      <td>malignant</td>\n",
              "      <td>1</td>\n",
              "    </tr>\n",
              "    <tr>\n",
              "      <th>1654</th>\n",
              "      <td>ISIC_0599605</td>\n",
              "      <td>IP_6130936</td>\n",
              "      <td>male</td>\n",
              "      <td>70.0</td>\n",
              "      <td>upper extremity</td>\n",
              "      <td>melanoma</td>\n",
              "      <td>malignant</td>\n",
              "      <td>1</td>\n",
              "    </tr>\n",
              "  </tbody>\n",
              "</table>\n",
              "</div>\n",
              "      <button class=\"colab-df-convert\" onclick=\"convertToInteractive('df-a2f5f50a-c8a2-4e58-a829-d1d8e9c2d4e0')\"\n",
              "              title=\"Convert this dataframe to an interactive table.\"\n",
              "              style=\"display:none;\">\n",
              "        \n",
              "  <svg xmlns=\"http://www.w3.org/2000/svg\" height=\"24px\"viewBox=\"0 0 24 24\"\n",
              "       width=\"24px\">\n",
              "    <path d=\"M0 0h24v24H0V0z\" fill=\"none\"/>\n",
              "    <path d=\"M18.56 5.44l.94 2.06.94-2.06 2.06-.94-2.06-.94-.94-2.06-.94 2.06-2.06.94zm-11 1L8.5 8.5l.94-2.06 2.06-.94-2.06-.94L8.5 2.5l-.94 2.06-2.06.94zm10 10l.94 2.06.94-2.06 2.06-.94-2.06-.94-.94-2.06-.94 2.06-2.06.94z\"/><path d=\"M17.41 7.96l-1.37-1.37c-.4-.4-.92-.59-1.43-.59-.52 0-1.04.2-1.43.59L10.3 9.45l-7.72 7.72c-.78.78-.78 2.05 0 2.83L4 21.41c.39.39.9.59 1.41.59.51 0 1.02-.2 1.41-.59l7.78-7.78 2.81-2.81c.8-.78.8-2.07 0-2.86zM5.41 20L4 18.59l7.72-7.72 1.47 1.35L5.41 20z\"/>\n",
              "  </svg>\n",
              "      </button>\n",
              "      \n",
              "  <style>\n",
              "    .colab-df-container {\n",
              "      display:flex;\n",
              "      flex-wrap:wrap;\n",
              "      gap: 12px;\n",
              "    }\n",
              "\n",
              "    .colab-df-convert {\n",
              "      background-color: #E8F0FE;\n",
              "      border: none;\n",
              "      border-radius: 50%;\n",
              "      cursor: pointer;\n",
              "      display: none;\n",
              "      fill: #1967D2;\n",
              "      height: 32px;\n",
              "      padding: 0 0 0 0;\n",
              "      width: 32px;\n",
              "    }\n",
              "\n",
              "    .colab-df-convert:hover {\n",
              "      background-color: #E2EBFA;\n",
              "      box-shadow: 0px 1px 2px rgba(60, 64, 67, 0.3), 0px 1px 3px 1px rgba(60, 64, 67, 0.15);\n",
              "      fill: #174EA6;\n",
              "    }\n",
              "\n",
              "    [theme=dark] .colab-df-convert {\n",
              "      background-color: #3B4455;\n",
              "      fill: #D2E3FC;\n",
              "    }\n",
              "\n",
              "    [theme=dark] .colab-df-convert:hover {\n",
              "      background-color: #434B5C;\n",
              "      box-shadow: 0px 1px 3px 1px rgba(0, 0, 0, 0.15);\n",
              "      filter: drop-shadow(0px 1px 2px rgba(0, 0, 0, 0.3));\n",
              "      fill: #FFFFFF;\n",
              "    }\n",
              "  </style>\n",
              "\n",
              "      <script>\n",
              "        const buttonEl =\n",
              "          document.querySelector('#df-a2f5f50a-c8a2-4e58-a829-d1d8e9c2d4e0 button.colab-df-convert');\n",
              "        buttonEl.style.display =\n",
              "          google.colab.kernel.accessAllowed ? 'block' : 'none';\n",
              "\n",
              "        async function convertToInteractive(key) {\n",
              "          const element = document.querySelector('#df-a2f5f50a-c8a2-4e58-a829-d1d8e9c2d4e0');\n",
              "          const dataTable =\n",
              "            await google.colab.kernel.invokeFunction('convertToInteractive',\n",
              "                                                     [key], {});\n",
              "          if (!dataTable) return;\n",
              "\n",
              "          const docLinkHtml = 'Like what you see? Visit the ' +\n",
              "            '<a target=\"_blank\" href=https://colab.research.google.com/notebooks/data_table.ipynb>data table notebook</a>'\n",
              "            + ' to learn more about interactive tables.';\n",
              "          element.innerHTML = '';\n",
              "          dataTable['output_type'] = 'display_data';\n",
              "          await google.colab.output.renderOutput(dataTable, element);\n",
              "          const docLink = document.createElement('div');\n",
              "          docLink.innerHTML = docLinkHtml;\n",
              "          element.appendChild(docLink);\n",
              "        }\n",
              "      </script>\n",
              "    </div>\n",
              "  </div>\n",
              "  "
            ]
          },
          "metadata": {},
          "execution_count": 26
        }
      ]
    },
    {
      "cell_type": "code",
      "source": [
        "test_benign = test_slice[~mask]\n",
        "test_benign"
      ],
      "metadata": {
        "colab": {
          "base_uri": "https://localhost:8080/",
          "height": 423
        },
        "id": "ncg_q2i1PLVn",
        "outputId": "f28dbb92-2ea2-4788-8678-d5ab3616df7f"
      },
      "execution_count": null,
      "outputs": [
        {
          "output_type": "execute_result",
          "data": {
            "text/plain": [
              "        image_name  patient_id     sex  age_approx  \\\n",
              "0     ISIC_2637011  IP_7279968    male        45.0   \n",
              "1     ISIC_0015719  IP_3075186  female        45.0   \n",
              "2     ISIC_0052212  IP_2842074  female        50.0   \n",
              "3     ISIC_0068279  IP_6890425  female        45.0   \n",
              "4     ISIC_0074268  IP_8723313  female        55.0   \n",
              "...            ...         ...     ...         ...   \n",
              "1650  ISIC_0597158  IP_4382720  female        50.0   \n",
              "1651  ISIC_0597414  IP_2606884  female        45.0   \n",
              "1652  ISIC_0597581  IP_9494136  female        75.0   \n",
              "1653  ISIC_0599047  IP_4109313    male        30.0   \n",
              "1655  ISIC_0599755  IP_6875077    male        50.0   \n",
              "\n",
              "     anatom_site_general_challenge diagnosis benign_malignant  target  \n",
              "0                        head/neck   unknown           benign       0  \n",
              "1                  upper extremity   unknown           benign       0  \n",
              "2                  lower extremity     nevus           benign       0  \n",
              "3                        head/neck   unknown           benign       0  \n",
              "4                  upper extremity   unknown           benign       0  \n",
              "...                            ...       ...              ...     ...  \n",
              "1650               lower extremity   unknown           benign       0  \n",
              "1651               lower extremity   unknown           benign       0  \n",
              "1652               lower extremity   unknown           benign       0  \n",
              "1653               upper extremity   unknown           benign       0  \n",
              "1655                         torso   unknown           benign       0  \n",
              "\n",
              "[1631 rows x 8 columns]"
            ],
            "text/html": [
              "\n",
              "  <div id=\"df-6fc1cb44-8748-41c8-90f7-5b8fb55c355b\">\n",
              "    <div class=\"colab-df-container\">\n",
              "      <div>\n",
              "<style scoped>\n",
              "    .dataframe tbody tr th:only-of-type {\n",
              "        vertical-align: middle;\n",
              "    }\n",
              "\n",
              "    .dataframe tbody tr th {\n",
              "        vertical-align: top;\n",
              "    }\n",
              "\n",
              "    .dataframe thead th {\n",
              "        text-align: right;\n",
              "    }\n",
              "</style>\n",
              "<table border=\"1\" class=\"dataframe\">\n",
              "  <thead>\n",
              "    <tr style=\"text-align: right;\">\n",
              "      <th></th>\n",
              "      <th>image_name</th>\n",
              "      <th>patient_id</th>\n",
              "      <th>sex</th>\n",
              "      <th>age_approx</th>\n",
              "      <th>anatom_site_general_challenge</th>\n",
              "      <th>diagnosis</th>\n",
              "      <th>benign_malignant</th>\n",
              "      <th>target</th>\n",
              "    </tr>\n",
              "  </thead>\n",
              "  <tbody>\n",
              "    <tr>\n",
              "      <th>0</th>\n",
              "      <td>ISIC_2637011</td>\n",
              "      <td>IP_7279968</td>\n",
              "      <td>male</td>\n",
              "      <td>45.0</td>\n",
              "      <td>head/neck</td>\n",
              "      <td>unknown</td>\n",
              "      <td>benign</td>\n",
              "      <td>0</td>\n",
              "    </tr>\n",
              "    <tr>\n",
              "      <th>1</th>\n",
              "      <td>ISIC_0015719</td>\n",
              "      <td>IP_3075186</td>\n",
              "      <td>female</td>\n",
              "      <td>45.0</td>\n",
              "      <td>upper extremity</td>\n",
              "      <td>unknown</td>\n",
              "      <td>benign</td>\n",
              "      <td>0</td>\n",
              "    </tr>\n",
              "    <tr>\n",
              "      <th>2</th>\n",
              "      <td>ISIC_0052212</td>\n",
              "      <td>IP_2842074</td>\n",
              "      <td>female</td>\n",
              "      <td>50.0</td>\n",
              "      <td>lower extremity</td>\n",
              "      <td>nevus</td>\n",
              "      <td>benign</td>\n",
              "      <td>0</td>\n",
              "    </tr>\n",
              "    <tr>\n",
              "      <th>3</th>\n",
              "      <td>ISIC_0068279</td>\n",
              "      <td>IP_6890425</td>\n",
              "      <td>female</td>\n",
              "      <td>45.0</td>\n",
              "      <td>head/neck</td>\n",
              "      <td>unknown</td>\n",
              "      <td>benign</td>\n",
              "      <td>0</td>\n",
              "    </tr>\n",
              "    <tr>\n",
              "      <th>4</th>\n",
              "      <td>ISIC_0074268</td>\n",
              "      <td>IP_8723313</td>\n",
              "      <td>female</td>\n",
              "      <td>55.0</td>\n",
              "      <td>upper extremity</td>\n",
              "      <td>unknown</td>\n",
              "      <td>benign</td>\n",
              "      <td>0</td>\n",
              "    </tr>\n",
              "    <tr>\n",
              "      <th>...</th>\n",
              "      <td>...</td>\n",
              "      <td>...</td>\n",
              "      <td>...</td>\n",
              "      <td>...</td>\n",
              "      <td>...</td>\n",
              "      <td>...</td>\n",
              "      <td>...</td>\n",
              "      <td>...</td>\n",
              "    </tr>\n",
              "    <tr>\n",
              "      <th>1650</th>\n",
              "      <td>ISIC_0597158</td>\n",
              "      <td>IP_4382720</td>\n",
              "      <td>female</td>\n",
              "      <td>50.0</td>\n",
              "      <td>lower extremity</td>\n",
              "      <td>unknown</td>\n",
              "      <td>benign</td>\n",
              "      <td>0</td>\n",
              "    </tr>\n",
              "    <tr>\n",
              "      <th>1651</th>\n",
              "      <td>ISIC_0597414</td>\n",
              "      <td>IP_2606884</td>\n",
              "      <td>female</td>\n",
              "      <td>45.0</td>\n",
              "      <td>lower extremity</td>\n",
              "      <td>unknown</td>\n",
              "      <td>benign</td>\n",
              "      <td>0</td>\n",
              "    </tr>\n",
              "    <tr>\n",
              "      <th>1652</th>\n",
              "      <td>ISIC_0597581</td>\n",
              "      <td>IP_9494136</td>\n",
              "      <td>female</td>\n",
              "      <td>75.0</td>\n",
              "      <td>lower extremity</td>\n",
              "      <td>unknown</td>\n",
              "      <td>benign</td>\n",
              "      <td>0</td>\n",
              "    </tr>\n",
              "    <tr>\n",
              "      <th>1653</th>\n",
              "      <td>ISIC_0599047</td>\n",
              "      <td>IP_4109313</td>\n",
              "      <td>male</td>\n",
              "      <td>30.0</td>\n",
              "      <td>upper extremity</td>\n",
              "      <td>unknown</td>\n",
              "      <td>benign</td>\n",
              "      <td>0</td>\n",
              "    </tr>\n",
              "    <tr>\n",
              "      <th>1655</th>\n",
              "      <td>ISIC_0599755</td>\n",
              "      <td>IP_6875077</td>\n",
              "      <td>male</td>\n",
              "      <td>50.0</td>\n",
              "      <td>torso</td>\n",
              "      <td>unknown</td>\n",
              "      <td>benign</td>\n",
              "      <td>0</td>\n",
              "    </tr>\n",
              "  </tbody>\n",
              "</table>\n",
              "<p>1631 rows × 8 columns</p>\n",
              "</div>\n",
              "      <button class=\"colab-df-convert\" onclick=\"convertToInteractive('df-6fc1cb44-8748-41c8-90f7-5b8fb55c355b')\"\n",
              "              title=\"Convert this dataframe to an interactive table.\"\n",
              "              style=\"display:none;\">\n",
              "        \n",
              "  <svg xmlns=\"http://www.w3.org/2000/svg\" height=\"24px\"viewBox=\"0 0 24 24\"\n",
              "       width=\"24px\">\n",
              "    <path d=\"M0 0h24v24H0V0z\" fill=\"none\"/>\n",
              "    <path d=\"M18.56 5.44l.94 2.06.94-2.06 2.06-.94-2.06-.94-.94-2.06-.94 2.06-2.06.94zm-11 1L8.5 8.5l.94-2.06 2.06-.94-2.06-.94L8.5 2.5l-.94 2.06-2.06.94zm10 10l.94 2.06.94-2.06 2.06-.94-2.06-.94-.94-2.06-.94 2.06-2.06.94z\"/><path d=\"M17.41 7.96l-1.37-1.37c-.4-.4-.92-.59-1.43-.59-.52 0-1.04.2-1.43.59L10.3 9.45l-7.72 7.72c-.78.78-.78 2.05 0 2.83L4 21.41c.39.39.9.59 1.41.59.51 0 1.02-.2 1.41-.59l7.78-7.78 2.81-2.81c.8-.78.8-2.07 0-2.86zM5.41 20L4 18.59l7.72-7.72 1.47 1.35L5.41 20z\"/>\n",
              "  </svg>\n",
              "      </button>\n",
              "      \n",
              "  <style>\n",
              "    .colab-df-container {\n",
              "      display:flex;\n",
              "      flex-wrap:wrap;\n",
              "      gap: 12px;\n",
              "    }\n",
              "\n",
              "    .colab-df-convert {\n",
              "      background-color: #E8F0FE;\n",
              "      border: none;\n",
              "      border-radius: 50%;\n",
              "      cursor: pointer;\n",
              "      display: none;\n",
              "      fill: #1967D2;\n",
              "      height: 32px;\n",
              "      padding: 0 0 0 0;\n",
              "      width: 32px;\n",
              "    }\n",
              "\n",
              "    .colab-df-convert:hover {\n",
              "      background-color: #E2EBFA;\n",
              "      box-shadow: 0px 1px 2px rgba(60, 64, 67, 0.3), 0px 1px 3px 1px rgba(60, 64, 67, 0.15);\n",
              "      fill: #174EA6;\n",
              "    }\n",
              "\n",
              "    [theme=dark] .colab-df-convert {\n",
              "      background-color: #3B4455;\n",
              "      fill: #D2E3FC;\n",
              "    }\n",
              "\n",
              "    [theme=dark] .colab-df-convert:hover {\n",
              "      background-color: #434B5C;\n",
              "      box-shadow: 0px 1px 3px 1px rgba(0, 0, 0, 0.15);\n",
              "      filter: drop-shadow(0px 1px 2px rgba(0, 0, 0, 0.3));\n",
              "      fill: #FFFFFF;\n",
              "    }\n",
              "  </style>\n",
              "\n",
              "      <script>\n",
              "        const buttonEl =\n",
              "          document.querySelector('#df-6fc1cb44-8748-41c8-90f7-5b8fb55c355b button.colab-df-convert');\n",
              "        buttonEl.style.display =\n",
              "          google.colab.kernel.accessAllowed ? 'block' : 'none';\n",
              "\n",
              "        async function convertToInteractive(key) {\n",
              "          const element = document.querySelector('#df-6fc1cb44-8748-41c8-90f7-5b8fb55c355b');\n",
              "          const dataTable =\n",
              "            await google.colab.kernel.invokeFunction('convertToInteractive',\n",
              "                                                     [key], {});\n",
              "          if (!dataTable) return;\n",
              "\n",
              "          const docLinkHtml = 'Like what you see? Visit the ' +\n",
              "            '<a target=\"_blank\" href=https://colab.research.google.com/notebooks/data_table.ipynb>data table notebook</a>'\n",
              "            + ' to learn more about interactive tables.';\n",
              "          element.innerHTML = '';\n",
              "          dataTable['output_type'] = 'display_data';\n",
              "          await google.colab.output.renderOutput(dataTable, element);\n",
              "          const docLink = document.createElement('div');\n",
              "          docLink.innerHTML = docLinkHtml;\n",
              "          element.appendChild(docLink);\n",
              "        }\n",
              "      </script>\n",
              "    </div>\n",
              "  </div>\n",
              "  "
            ]
          },
          "metadata": {},
          "execution_count": 27
        }
      ]
    },
    {
      "cell_type": "code",
      "source": [
        "benign_image_names = test_benign[\"image_name\"].tolist()\n",
        "\n",
        "for i in range(len(benign_image_names)):\n",
        "    benign_image_names[i] += \".jpg\"\n",
        "benign_image_names"
      ],
      "metadata": {
        "id": "zFbgJTXTPn2E"
      },
      "execution_count": null,
      "outputs": []
    },
    {
      "cell_type": "code",
      "source": [
        "import shutil\n",
        "#move BENING TRAIN images to benign est folder\n",
        "original_source = f\"{PATH}/train_copy/0/\"\n",
        "destination = f\"{PATH}/test/0\"\n",
        "\n",
        "source = original_source\n",
        "\n",
        "for img in benign_image_names:\n",
        "  if(img in benign_dir):\n",
        "    source += img\n",
        "    print(\"Source path with img: \" + source)\n",
        "    shutil.move(source, destination)\n",
        "    source = source.replace(source, original_source)\n",
        "    print(\"Source path without  img: \" + source)"
      ],
      "metadata": {
        "id": "r_1UMykXPbSq"
      },
      "execution_count": null,
      "outputs": []
    },
    {
      "cell_type": "markdown",
      "source": [
        "## malignant"
      ],
      "metadata": {
        "id": "jctcoYRNmnNb"
      }
    },
    {
      "cell_type": "code",
      "source": [
        "malignant_image_names = test_malignant[\"image_name\"].tolist()\n",
        "\n",
        "for i in range(len(malignant_image_names)):\n",
        "    malignant_image_names[i] += \".jpg\"\n",
        "malignant_image_names"
      ],
      "metadata": {
        "id": "QCFbX7ZXmms6"
      },
      "execution_count": null,
      "outputs": []
    },
    {
      "cell_type": "code",
      "source": [
        "import shutil\n",
        "#move MALIGNANT TRAIN images to malignant test folder\n",
        "original_source = f\"{PATH}/train_copy/1/\"\n",
        "destination = f\"{PATH}/test/1\"\n",
        "\n",
        "source = original_source\n",
        "\n",
        "for img in malignant_image_names:\n",
        "  if(img in malignant_dir):\n",
        "    source += img\n",
        "    shutil.move(source, destination)\n",
        "    source = source.replace(source, original_source)"
      ],
      "metadata": {
        "id": "438xjhdwnbIh"
      },
      "execution_count": null,
      "outputs": []
    },
    {
      "cell_type": "markdown",
      "metadata": {
        "id": "wJQD6Ywf-c9R"
      },
      "source": [
        "## benign - malignant balance"
      ]
    },
    {
      "cell_type": "code",
      "execution_count": null,
      "metadata": {
        "id": "1Ik2fWra-c9S",
        "colab": {
          "base_uri": "https://localhost:8080/",
          "height": 283
        },
        "outputId": "06a0c1e3-4316-47b5-9f3c-0890c07c3b90"
      },
      "outputs": [
        {
          "output_type": "execute_result",
          "data": {
            "text/plain": [
              "<matplotlib.axes._subplots.AxesSubplot at 0x7fef484d0e50>"
            ]
          },
          "metadata": {},
          "execution_count": 91
        },
        {
          "output_type": "display_data",
          "data": {
            "text/plain": [
              "<Figure size 432x288 with 1 Axes>"
            ],
            "image/png": "[encoded data removed]"
          },
          "metadata": {
            "needs_background": "light"
          }
        }
      ],
      "source": [
        "train['target'].hist()"
      ]
    },
    {
      "cell_type": "code",
      "execution_count": null,
      "metadata": {
        "id": "aG2d_aK0-c9T",
        "colab": {
          "base_uri": "https://localhost:8080/"
        },
        "outputId": "565a2429-3131-4ca1-ebd3-128968ed75b8"
      },
      "outputs": [
        {
          "output_type": "execute_result",
          "data": {
            "text/plain": [
              "0    32542\n",
              "1      584\n",
              "Name: target, dtype: int64"
            ]
          },
          "metadata": {},
          "execution_count": 92
        }
      ],
      "source": [
        "train['target'].value_counts()"
      ]
    },
    {
      "cell_type": "code",
      "execution_count": null,
      "metadata": {
        "id": "GY9ZyZjZ-c9U",
        "colab": {
          "base_uri": "https://localhost:8080/"
        },
        "outputId": "684be99c-28d1-443c-a08e-9ab5202e5c4e"
      },
      "outputs": [
        {
          "output_type": "execute_result",
          "data": {
            "text/plain": [
              "(0.9823703435367989, 0.01762965646320111)"
            ]
          },
          "metadata": {},
          "execution_count": 93
        }
      ],
      "source": [
        "32542/33126, 584/33126"
      ]
    },
    {
      "cell_type": "markdown",
      "metadata": {
        "id": "EI_zU3kc-c9V"
      },
      "source": [
        "el 98.23% de las imagenes del dataset son imágenes con la etiqueta cero y el 1.76% de las imágenes tienen la etiqueta 1"
      ]
    },
    {
      "cell_type": "code",
      "execution_count": null,
      "metadata": {
        "id": "AJZvaIse-c9V",
        "colab": {
          "base_uri": "https://localhost:8080/"
        },
        "outputId": "7a0c5e7b-5d6f-4d55-d148-5ad72074c29a"
      },
      "outputs": [
        {
          "output_type": "stream",
          "name": "stdout",
          "text": [
            "Number of malignant samples in training data: 584 (1.76% of total)\n",
            "Number of benign samples in training data: 32542 (98.24% of total)\n"
          ]
        }
      ],
      "source": [
        "counts = np.bincount(train['target'])\n",
        "print(\n",
        "    \"Number of malignant samples in training data: {} ({:.2f}% of total)\".format(\n",
        "        counts[1], 100 * float(counts[1]) / len(train)\n",
        "    )\n",
        ")\n",
        "\n",
        "print(\n",
        "    \"Number of benign samples in training data: {} ({:.2f}% of total)\".format(\n",
        "        counts[0], 100 * float(counts[0]) / len(train)\n",
        "    )\n",
        ")\n",
        "\n",
        "benign_samples = 1.0 / counts[0]\n",
        "malignant_samples = 1.0 / counts[1]"
      ]
    },
    {
      "cell_type": "code",
      "execution_count": null,
      "metadata": {
        "id": "j9bd7e_d-c9W",
        "colab": {
          "base_uri": "https://localhost:8080/"
        },
        "outputId": "3253f8ce-de17-4cf6-a0e2-9baadcf04640"
      },
      "outputs": [
        {
          "output_type": "execute_result",
          "data": {
            "text/plain": [
              "0        0\n",
              "1        0\n",
              "2        0\n",
              "3        0\n",
              "4        0\n",
              "        ..\n",
              "33121    0\n",
              "33122    0\n",
              "33123    0\n",
              "33124    0\n",
              "33125    0\n",
              "Name: target, Length: 33126, dtype: int64"
            ]
          },
          "metadata": {},
          "execution_count": 95
        }
      ],
      "source": [
        "train_classes = train['target']\n",
        "train_classes"
      ]
    },
    {
      "cell_type": "code",
      "execution_count": null,
      "metadata": {
        "id": "IhfmVzXD-c9X"
      },
      "outputs": [],
      "source": [
        "from sklearn.utils import class_weight\n",
        "\n",
        "class_weights = class_weight.compute_class_weight(class_weight='balanced',\n",
        "                                                 classes= np.unique(train_classes),\n",
        "                                                 y=train_classes)\n",
        "\n",
        "class_weights_dict = dict(enumerate(class_weights))\n"
      ]
    },
    {
      "cell_type": "code",
      "execution_count": null,
      "metadata": {
        "id": "uIqVx7Cn-c9Y",
        "colab": {
          "base_uri": "https://localhost:8080/"
        },
        "outputId": "576ac8ba-96d7-4bc9-a3a3-ca7344881593"
      },
      "outputs": [
        {
          "output_type": "execute_result",
          "data": {
            "text/plain": [
              "(array([ 0.50897302, 28.36130137]),\n",
              " {0: 0.5089730194825149, 1: 28.361301369863014})"
            ]
          },
          "metadata": {},
          "execution_count": 60
        }
      ],
      "source": [
        "class_weights, class_weights_dict"
      ]
    },
    {
      "cell_type": "markdown",
      "metadata": {
        "id": "y5Ujcxz931CS"
      },
      "source": [
        "## Load datasets"
      ]
    },
    {
      "cell_type": "code",
      "source": [
        "train_dir = f'{PATH}/jpeg224/train'\n",
        "val_dir = f'{PATH}/jpeg224/val'\n",
        "test_dir = f'{PATH}/jpeg224/test'"
      ],
      "metadata": {
        "id": "c8LyRzKw0gXo"
      },
      "execution_count": null,
      "outputs": []
    },
    {
      "cell_type": "code",
      "source": [
        "IMG_SHAPE = 224\n",
        "BATCH_SIZE = 200"
      ],
      "metadata": {
        "id": "9keZAjsjp3Qx"
      },
      "execution_count": null,
      "outputs": []
    },
    {
      "cell_type": "code",
      "execution_count": null,
      "metadata": {
        "id": "gmNZP0TfllJ1",
        "colab": {
          "base_uri": "https://localhost:8080/"
        },
        "outputId": "868a9629-605f-48b5-d999-aaca64d67dbd"
      },
      "outputs": [
        {
          "output_type": "stream",
          "name": "stdout",
          "text": [
            "Found 28821 images belonging to 2 classes.\n",
            "Found 2649 images belonging to 2 classes.\n"
          ]
        }
      ],
      "source": [
        "train_image_gen = ImageDataGenerator(\n",
        "        rescale=1 / 255.0,\n",
        "        rotation_range=40,\n",
        "        height_shift_range=0.2,\n",
        "        width_shift_range=0.2,\n",
        "        shear_range=0.2,\n",
        "        zoom_range=0.2,\n",
        "        horizontal_flip=True,\n",
        "        fill_mode='nearest',\n",
        ")\n",
        "\n",
        "train_data_gen = train_image_gen.flow_from_directory(batch_size = BATCH_SIZE,\n",
        "                                                     directory = train_dir,\n",
        "                                                     shuffle= True,\n",
        "                                                     target_size = (IMG_SHAPE,IMG_SHAPE),\n",
        "                                                     class_mode = 'binary')\n",
        "\n",
        "val_data_gen = ImageDataGenerator(rescale=1 / 255.0)\n",
        "\n",
        "\n",
        "val_data_gen = val_data_gen.flow_from_directory(batch_size = BATCH_SIZE,\n",
        "                                                     directory = val_dir,\n",
        "                                                     shuffle= True,\n",
        "                                                     target_size = (IMG_SHAPE,IMG_SHAPE),\n",
        "                                                     class_mode = 'binary')"
      ]
    },
    {
      "cell_type": "markdown",
      "metadata": {
        "id": "B9NvOpB5-c9a"
      },
      "source": [
        "# Crear directorio predict dentro de test"
      ]
    },
    {
      "cell_type": "code",
      "execution_count": null,
      "metadata": {
        "id": "G5MuYb13-c9b",
        "colab": {
          "base_uri": "https://localhost:8080/"
        },
        "outputId": "eae217fb-3456-4e7a-de8c-854a55158a88"
      },
      "outputs": [
        {
          "output_type": "execute_result",
          "data": {
            "text/plain": [
              "['0', '1']"
            ]
          },
          "metadata": {},
          "execution_count": 69
        }
      ],
      "source": [
        "test_directory = f'{PATH}/jpeg224/test'\n",
        "os.listdir(test_directory)"
      ]
    },
    {
      "cell_type": "code",
      "execution_count": null,
      "metadata": {
        "id": "707kpAtr-c9c",
        "colab": {
          "base_uri": "https://localhost:8080/"
        },
        "outputId": "aeaf0b89-26fc-4c10-9599-899cfa20ee7e"
      },
      "outputs": [
        {
          "output_type": "stream",
          "name": "stdout",
          "text": [
            "Found 1656 images belonging to 2 classes.\n"
          ]
        }
      ],
      "source": [
        "test_image_gen = ImageDataGenerator(rescale=1./255)\n",
        "test_data_gen = test_image_gen.flow_from_directory(batch_size = BATCH_SIZE,\n",
        "                                                   directory = test_directory,\n",
        "                                                   shuffle= True,\n",
        "                                                   target_size = (IMG_SHAPE, IMG_SHAPE),\n",
        "                                                   class_mode='binary')"
      ]
    },
    {
      "cell_type": "code",
      "execution_count": null,
      "metadata": {
        "id": "gSP95GeN17qV",
        "colab": {
          "base_uri": "https://localhost:8080/"
        },
        "outputId": "838d39c1-a0fa-4d31-93ab-d4804f83ae69"
      },
      "outputs": [
        {
          "output_type": "execute_result",
          "data": {
            "text/plain": [
              "keras.preprocessing.image.ImageDataGenerator"
            ]
          },
          "metadata": {},
          "execution_count": 24
        }
      ],
      "source": [
        "type(test_image_gen)"
      ]
    },
    {
      "cell_type": "markdown",
      "metadata": {
        "id": "krgA4CCrsJw_"
      },
      "source": [
        "# VGG16"
      ]
    },
    {
      "cell_type": "code",
      "execution_count": null,
      "metadata": {
        "id": "cOaF6Cc8C-wJ",
        "colab": {
          "base_uri": "https://localhost:8080/"
        },
        "outputId": "940ffdbb-0ed3-4db9-c608-780a7dedb5f1"
      },
      "outputs": [
        {
          "output_type": "stream",
          "name": "stdout",
          "text": [
            "Downloading data from https://storage.googleapis.com/tensorflow/keras-applications/vgg16/vgg16_weights_tf_dim_ordering_tf_kernels_notop.h5\n",
            "58892288/58889256 [==============================] - 0s 0us/step\n",
            "58900480/58889256 [==============================] - 0s 0us/step\n",
            "input_1\n",
            "block1_conv1\n",
            "block1_conv2\n",
            "block1_pool\n",
            "block2_conv1\n",
            "block2_conv2\n",
            "block2_pool\n",
            "block3_conv1\n",
            "block3_conv2\n",
            "block3_conv3\n",
            "block3_pool\n",
            "block4_conv1\n",
            "block4_conv2\n",
            "block4_conv3\n",
            "block4_pool\n",
            "block5_conv1\n",
            "block5_conv2\n",
            "block5_conv3\n",
            "block5_pool\n"
          ]
        }
      ],
      "source": [
        "\n",
        "INPUT_SHAPE = (224, 224, 3)\n",
        "\n",
        "vgg16_model = VGG16(weights='imagenet',\n",
        "                    input_shape=INPUT_SHAPE,\n",
        "                    include_top=False)\n",
        "\n",
        "for layer in vgg16_model.layers:\n",
        "  print(layer.name)\n",
        "  layer.trainable = False"
      ]
    },
    {
      "cell_type": "code",
      "execution_count": null,
      "metadata": {
        "id": "jDnILpiI59QP",
        "colab": {
          "base_uri": "https://localhost:8080/",
          "height": 246
        },
        "outputId": "28e598b7-a412-42eb-cdc3-127bcca29591"
      },
      "outputs": [
        {
          "output_type": "error",
          "ename": "NameError",
          "evalue": "ignored",
          "traceback": [
            "\u001b[0;31m---------------------------------------------------------------------------\u001b[0m",
            "\u001b[0;31mNameError\u001b[0m                                 Traceback (most recent call last)",
            "\u001b[0;32m<ipython-input-5-36e56d8583ba>\u001b[0m in \u001b[0;36m<module>\u001b[0;34m()\u001b[0m\n\u001b[0;32m----> 1\u001b[0;31m \u001b[0mx\u001b[0m \u001b[0;34m=\u001b[0m \u001b[0mvgg16_model\u001b[0m\u001b[0;34m.\u001b[0m\u001b[0moutput\u001b[0m\u001b[0;34m\u001b[0m\u001b[0;34m\u001b[0m\u001b[0m\n\u001b[0m\u001b[1;32m      2\u001b[0m \u001b[0mx\u001b[0m \u001b[0;34m=\u001b[0m \u001b[0mtf\u001b[0m\u001b[0;34m.\u001b[0m\u001b[0mkeras\u001b[0m\u001b[0;34m.\u001b[0m\u001b[0mlayers\u001b[0m\u001b[0;34m.\u001b[0m\u001b[0mFlatten\u001b[0m\u001b[0;34m(\u001b[0m\u001b[0;34m)\u001b[0m\u001b[0;34m(\u001b[0m\u001b[0mx\u001b[0m\u001b[0;34m)\u001b[0m \u001b[0;31m# Flatten dimensions to for use in fully connected layers\u001b[0m\u001b[0;34m\u001b[0m\u001b[0;34m\u001b[0m\u001b[0m\n\u001b[1;32m      3\u001b[0m \u001b[0mx\u001b[0m \u001b[0;34m=\u001b[0m \u001b[0mtf\u001b[0m\u001b[0;34m.\u001b[0m\u001b[0mkeras\u001b[0m\u001b[0;34m.\u001b[0m\u001b[0mlayers\u001b[0m\u001b[0;34m.\u001b[0m\u001b[0mDense\u001b[0m\u001b[0;34m(\u001b[0m\u001b[0;36m512\u001b[0m\u001b[0;34m,\u001b[0m \u001b[0mactivation\u001b[0m\u001b[0;34m=\u001b[0m\u001b[0;34m'relu'\u001b[0m\u001b[0;34m)\u001b[0m\u001b[0;34m(\u001b[0m\u001b[0mx\u001b[0m\u001b[0;34m)\u001b[0m\u001b[0;34m\u001b[0m\u001b[0;34m\u001b[0m\u001b[0m\n\u001b[1;32m      4\u001b[0m \u001b[0mx\u001b[0m \u001b[0;34m=\u001b[0m \u001b[0mtf\u001b[0m\u001b[0;34m.\u001b[0m\u001b[0mkeras\u001b[0m\u001b[0;34m.\u001b[0m\u001b[0mlayers\u001b[0m\u001b[0;34m.\u001b[0m\u001b[0mDropout\u001b[0m\u001b[0;34m(\u001b[0m\u001b[0;36m0.5\u001b[0m\u001b[0;34m)\u001b[0m\u001b[0;34m(\u001b[0m\u001b[0mx\u001b[0m\u001b[0;34m)\u001b[0m \u001b[0;31m# Dropout layer to reduce overfitting\u001b[0m\u001b[0;34m\u001b[0m\u001b[0;34m\u001b[0m\u001b[0m\n\u001b[1;32m      5\u001b[0m \u001b[0mx\u001b[0m \u001b[0;34m=\u001b[0m \u001b[0mtf\u001b[0m\u001b[0;34m.\u001b[0m\u001b[0mkeras\u001b[0m\u001b[0;34m.\u001b[0m\u001b[0mlayers\u001b[0m\u001b[0;34m.\u001b[0m\u001b[0mDense\u001b[0m\u001b[0;34m(\u001b[0m\u001b[0;36m256\u001b[0m\u001b[0;34m,\u001b[0m \u001b[0mactivation\u001b[0m\u001b[0;34m=\u001b[0m\u001b[0;34m'relu'\u001b[0m\u001b[0;34m)\u001b[0m\u001b[0;34m(\u001b[0m\u001b[0mx\u001b[0m\u001b[0;34m)\u001b[0m\u001b[0;34m\u001b[0m\u001b[0;34m\u001b[0m\u001b[0m\n",
            "\u001b[0;31mNameError\u001b[0m: name 'vgg16_model' is not defined"
          ]
        }
      ],
      "source": [
        "x = vgg16_model.output\n",
        "x = tf.keras.layers.Flatten()(x) # Flatten dimensions to for use in fully connected layers\n",
        "x = tf.keras.layers.Dense(512, activation='relu')(x)\n",
        "x = tf.keras.layers.Dropout(0.5)(x) # Dropout layer to reduce overfitting\n",
        "x = tf.keras.layers.Dense(256, activation='relu')(x)\n",
        "x = tf.keras.layers.Dropout(0.5)(x) # Dropout layer to reduce overfitting\n",
        "x = tf.keras.layers.Dense(2, activation='softmax')(x)\n",
        "model = Model(inputs=vgg16_model.input, outputs=x)"
      ]
    },
    {
      "cell_type": "code",
      "source": [
        "model.compile(optimizer='adam',\n",
        "                       loss=tf.keras.losses.SparseCategoricalCrossentropy(), #Computes the crossentropy loss between the labels and predictions.\n",
        "                       metrics=[\"accuracy\"])"
      ],
      "metadata": {
        "id": "MJcW0OITF9WJ"
      },
      "execution_count": null,
      "outputs": []
    },
    {
      "cell_type": "markdown",
      "metadata": {
        "id": "Wyoyv3kY3Iel"
      },
      "source": [
        "## Entrenamiento del modelo"
      ]
    },
    {
      "cell_type": "code",
      "source": [
        "model_to_fit = model"
      ],
      "metadata": {
        "id": "7ieIdF-YHqiQ"
      },
      "execution_count": null,
      "outputs": []
    },
    {
      "cell_type": "code",
      "source": [
        "BATCH_SIZE = 100\n",
        "\n",
        "early_stopping = tf.keras.callbacks.EarlyStopping(monitor='val_loss', min_delta=0.000015,\n",
        "                                                  patience=6, restore_best_weights=True, verbose=1)\n",
        "\n",
        "vgg_classifier = model_to_fit.fit(train_data_gen,\n",
        "                                     validation_data=val_data_gen,\n",
        "                                     steps_per_epoch=50,\n",
        "                                     epochs=50,\n",
        "                                     class_weight=class_weights_dict,\n",
        "                                     callbacks=[early_stopping]\n",
        "                                    )"
      ],
      "metadata": {
        "id": "41YEp9jf-c9j",
        "colab": {
          "base_uri": "https://localhost:8080/"
        },
        "outputId": "e3d44dc3-1d0a-49a1-85c6-c3190351dd23"
      },
      "execution_count": null,
      "outputs": [
        {
          "output_type": "stream",
          "name": "stdout",
          "text": [
            "Epoch 1/50\n",
            "50/50 [==============================] - 2441s 49s/step - loss: 5.8215 - accuracy: 0.5022 - val_loss: 0.2728 - val_accuracy: 0.9253\n",
            "Epoch 2/50\n",
            "50/50 [==============================] - 1232s 25s/step - loss: 3.6722 - accuracy: 0.4884 - val_loss: 1.0311 - val_accuracy: 0.0891\n",
            "Epoch 3/50\n",
            "50/50 [==============================] - 980s 20s/step - loss: 1.3610 - accuracy: 0.4762 - val_loss: 0.9756 - val_accuracy: 0.0461\n",
            "Epoch 4/50\n",
            "50/50 [==============================] - 856s 17s/step - loss: 0.8960 - accuracy: 0.4670 - val_loss: 0.6194 - val_accuracy: 0.7554\n",
            "Epoch 5/50\n",
            "50/50 [==============================] - 703s 14s/step - loss: 0.7230 - accuracy: 0.4726 - val_loss: 0.7973 - val_accuracy: 0.4621\n",
            "Epoch 6/50\n",
            "50/50 [==============================] - 580s 12s/step - loss: 0.7722 - accuracy: 0.2695 - val_loss: 0.7108 - val_accuracy: 0.1601\n",
            "Epoch 7/50\n",
            "50/50 [==============================] - ETA: 0s - loss: 0.7312 - accuracy: 0.1346Restoring model weights from the end of the best epoch: 1.\n",
            "50/50 [==============================] - 484s 10s/step - loss: 0.7312 - accuracy: 0.1346 - val_loss: 0.8813 - val_accuracy: 0.0713\n",
            "Epoch 7: early stopping\n"
          ]
        }
      ]
    },
    {
      "cell_type": "code",
      "execution_count": null,
      "metadata": {
        "id": "oAS4hcv3-c9j",
        "colab": {
          "base_uri": "https://localhost:8080/"
        },
        "outputId": "12c3ab5c-9d42-4d0c-ae35-28aec181d526"
      },
      "outputs": [
        {
          "output_type": "execute_result",
          "data": {
            "text/plain": [
              "array([ 0.50897302, 28.36130137])"
            ]
          },
          "metadata": {},
          "execution_count": 84
        }
      ],
      "source": [
        "class_weights"
      ]
    },
    {
      "cell_type": "code",
      "execution_count": null,
      "metadata": {
        "id": "UxBtNc9L-c9k"
      },
      "outputs": [],
      "source": [
        "model_to_fit.save(f'{PATH}/saved_models/last_model-colab-data-augmentation-new-test.h5')"
      ]
    },
    {
      "cell_type": "markdown",
      "metadata": {
        "id": "WOBWL5yi-c9l"
      },
      "source": [
        "## test & evaluate"
      ]
    },
    {
      "cell_type": "code",
      "execution_count": null,
      "metadata": {
        "id": "SLuIJ_IF-c9m",
        "colab": {
          "base_uri": "https://localhost:8080/"
        },
        "outputId": "c8c91352-8693-43a6-ec32-762ac110151b"
      },
      "outputs": [
        {
          "output_type": "stream",
          "name": "stdout",
          "text": [
            "17/17 [==============================] - 141s 9s/step - loss: 0.2795 - accuracy: 0.9197\n",
            "Test loss: 0.2794886827468872\n",
            "Test accuracy: 0.9196860194206238\n"
          ]
        }
      ],
      "source": [
        "test_scores = model_to_fit.evaluate(test_data_gen, verbose=1, use_multiprocessing=True, workers=4)\n",
        "print(\"Test loss:\", test_scores[0])\n",
        "print(\"Test accuracy:\", test_scores[1])"
      ]
    },
    {
      "cell_type": "markdown",
      "metadata": {
        "id": "eXf9XW_3uRuu"
      },
      "source": [
        "## plot history"
      ]
    },
    {
      "cell_type": "code",
      "execution_count": null,
      "metadata": {
        "id": "WiRkhK0IaV36"
      },
      "outputs": [],
      "source": [
        "! pip install plot_keras_history"
      ]
    },
    {
      "cell_type": "code",
      "execution_count": null,
      "metadata": {
        "id": "uw2BGJ16C-wK",
        "scrolled": true,
        "colab": {
          "base_uri": "https://localhost:8080/",
          "height": 385
        },
        "outputId": "0896ba86-21fa-43f9-e073-3db6afae199f"
      },
      "outputs": [
        {
          "output_type": "display_data",
          "data": {
            "text/plain": [
              "<Figure size 720x360 with 2 Axes>"
            ],
            "image/png": "[encoded data removed]"
          },
          "metadata": {
            "needs_background": "light"
          }
        }
      ],
      "source": [
        "# external package plot_keras_history (https://pypi.org/project/plot-keras-history/)\n",
        "from plot_keras_history import show_history, plot_history\n",
        "import matplotlib.pyplot as plt\n",
        "\n",
        "show_history(vgg_classifier)\n",
        "plot_history(vgg_classifier, path=\"early_loss_and_accuracy.png\")\n",
        "plt.close()"
      ]
    },
    {
      "cell_type": "markdown",
      "metadata": {
        "id": "RCuLSdgd-c9o"
      },
      "source": [
        "\n",
        "\n",
        "\n",
        "\n",
        "## Predicted values"
      ]
    },
    {
      "cell_type": "code",
      "execution_count": null,
      "metadata": {
        "scrolled": false,
        "id": "9-thzEsM-c9p",
        "colab": {
          "base_uri": "https://localhost:8080/"
        },
        "outputId": "4f4cfeda-417b-496d-c73e-91a58d70de81"
      },
      "outputs": [
        {
          "output_type": "stream",
          "name": "stdout",
          "text": [
            "17/17 [==============================] - 5s 251ms/step\n"
          ]
        },
        {
          "output_type": "execute_result",
          "data": {
            "text/plain": [
              "array([[0.89053357, 0.10946643],\n",
              "       [0.5745462 , 0.4254538 ],\n",
              "       [0.9152769 , 0.08472305],\n",
              "       ...,\n",
              "       [0.7356332 , 0.26436684],\n",
              "       [0.9101687 , 0.08983129],\n",
              "       [0.9079583 , 0.09204171]], dtype=float32)"
            ]
          },
          "metadata": {},
          "execution_count": 80
        }
      ],
      "source": [
        "from sklearn.metrics import confusion_matrix, classification_report\n",
        "\n",
        "\n",
        "predictions = model_to_fit.predict(test_data_gen, verbose=1, use_multiprocessing=True, workers=4)\n",
        "predictions"
      ]
    },
    {
      "cell_type": "code",
      "source": [
        "predictions.shape"
      ],
      "metadata": {
        "id": "G_ksAtDAxeFH"
      },
      "execution_count": null,
      "outputs": []
    },
    {
      "cell_type": "code",
      "execution_count": null,
      "metadata": {
        "id": "4zPpWYuy-c9v",
        "colab": {
          "base_uri": "https://localhost:8080/"
        },
        "outputId": "028d4863-9137-446a-d310-6e127606b387"
      },
      "outputs": [
        {
          "output_type": "execute_result",
          "data": {
            "text/plain": [
              "array([0, 0, 0, ..., 0, 0, 0])"
            ]
          },
          "metadata": {},
          "execution_count": 85
        }
      ],
      "source": [
        "predicted_classes = np.argmax(predictions, axis=1) #Returns the indices of the maximum values along an axis.\n",
        "\n",
        "predicted_classes"
      ]
    },
    {
      "cell_type": "markdown",
      "source": [
        "## Confusion matrix"
      ],
      "metadata": {
        "id": "Eh7NrkSwPgIy"
      }
    },
    {
      "cell_type": "code",
      "source": [
        "true_labels = test_data_gen.labels"
      ],
      "metadata": {
        "id": "ZxCC54IcyyiZ"
      },
      "execution_count": null,
      "outputs": []
    },
    {
      "cell_type": "code",
      "execution_count": null,
      "metadata": {
        "id": "u_-eH4ho-c9w",
        "colab": {
          "base_uri": "https://localhost:8080/"
        },
        "outputId": "9b12f3a5-76a1-42f5-9c63-32b6ed87fdbc"
      },
      "outputs": [
        {
          "output_type": "stream",
          "name": "stdout",
          "text": [
            "[[1519  112]\n",
            " [  23    2]]\n"
          ]
        }
      ],
      "source": [
        "cf_matrix = confusion_matrix(true_labels, predicted_classes)\n",
        "print(cf_matrix)"
      ]
    },
    {
      "cell_type": "code",
      "execution_count": null,
      "metadata": {
        "id": "c8xs69cg-c9x",
        "colab": {
          "base_uri": "https://localhost:8080/",
          "height": 337
        },
        "outputId": "f1709a4b-5f98-4ea1-fec8-6421fae22495"
      },
      "outputs": [
        {
          "output_type": "display_data",
          "data": {
            "text/plain": [
              "<Figure size 432x288 with 2 Axes>"
            ],
            "image/png": "[encoded data removed]"
          },
          "metadata": {
            "needs_background": "light"
          }
        }
      ],
      "source": [
        "plot_cf_matrix = sns.heatmap(cf_matrix/np.sum(cf_matrix), annot=True,\n",
        "            fmt='.2%', cmap='Blues')\n",
        "plot_cf_matrix.set_title('Seaborn Confusion Matrix with labels\\n\\n');\n",
        "plot_cf_matrix.set_xlabel('\\nPredicted Values')\n",
        "plot_cf_matrix.set_ylabel('Actual Values ');\n",
        "plot_cf_matrix.xaxis.set_ticklabels(['Benign','Malignant'])\n",
        "plot_cf_matrix.yaxis.set_ticklabels(['Benign','Malignant'])\n",
        "## Display the visualization of the Confusion Matrix.\n",
        "plt.show()"
      ]
    }
  ],
  "metadata": {
    "accelerator": "GPU",
    "colab": {
      "collapsed_sections": [
        "qnW1HTxy7WGD",
        "HeSPoi5deQUa",
        "jctcoYRNmnNb",
        "wJQD6Ywf-c9R",
        "y5Ujcxz931CS",
        "krgA4CCrsJw_",
        "WOBWL5yi-c9l"
      ],
      "provenance": [],
      "machine_shape": "hm",
      "include_colab_link": true
    },
    "kernelspec": {
      "display_name": "Python 3",
      "name": "python3"
    },
    "language_info": {
      "name": "python"
    },
    "gpuClass": "standard"
  },
  "nbformat": 4,
  "nbformat_minor": 0
}